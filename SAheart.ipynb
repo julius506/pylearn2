{
 "metadata": {
  "name": ""
 },
 "nbformat": 3,
 "nbformat_minor": 0,
 "worksheets": [
  {
   "cells": [
    {
     "cell_type": "code",
     "collapsed": false,
     "input": [
      "import os\n",
      "import sys\n",
      "import pylearn2\n",
      "import numpy as np\n",
      "import csv\n",
      "import pandas as pd\n",
      "from pylearn2.datasets.dense_design_matrix import DenseDesignMatrix\n",
      "\n",
      "sys.path.append(os.path.abspath(\"pylearn2/datasets\"))\n",
      "sys.path.append(os.path.abspath(\"pylearn2/pylearn2/scripts\"))\n",
      "sys.path.append(os.path.abspath(\"pylearn2/pylearn2/datasets\"))\n",
      "\n",
      "sys.path.append(os.path.abspath(\"pylearn2/datasets/SAheart\"))\n",
      "import csv_dataset\n",
      "#path = os.path.join(pylearn2.__path__[0], 'scripts', 'tutorials', 'multilayer_perceptron', 'mlp_tutorial_part_2.yaml')\n",
      "pathToYaml = '/home/julian/Documents/pylearn2/datasets/SAheart/SAheartpythonLoader.yaml'"
     ],
     "language": "python",
     "metadata": {},
     "outputs": [],
     "prompt_number": 134
    },
    {
     "cell_type": "raw",
     "metadata": {},
     "source": [
      "This one is adapted from goodfellow"
     ]
    },
    {
     "cell_type": "code",
     "collapsed": false,
     "input": [
      "from pandas import read_csv\n",
      "\n",
      "def load_data(start, stop):\n",
      "    \"\"\"\n",
      "    Expects\n",
      "    -------\n",
      "    valid .csv file in the same folder\n",
      "    first column must be target\n",
      "    Target must be \n",
      "    \n",
      "    Parameters\n",
      "    ----------\n",
      "    start: int\n",
      "    stop: int\n",
      "\n",
      "    Returns\n",
      "    -------\n",
      "\n",
      "    dataset : DenseDesignMatrix\n",
      "        A dataset include examples start (inclusive) through stop (exclusive).\n",
      "        The start and stop parameters are useful for splitting the data into\n",
      "        train, validation, and test data.\n",
      "    \"\"\"\n",
      "            \n",
      "    data = read_csv('SAheartS.csv', sep=\",\")\n",
      "        \n",
      "    X = data.ix[start:stop, 1:]\n",
      "    y = data.ix[start:stop, 0]\n",
      "            \n",
      "    X = np.array( X.as_matrix() )\n",
      "    y = np.array( y.as_matrix() )\n",
      "    for i in xrange(len(y)):\n",
      "        y[i] = int(y[i])\n",
      "    y = np.vstack([y,abs(y-1)])\n",
      "    y = y.transpose()\n",
      "    \n",
      "    #print type(X[1,9])\n",
      "    #print type(y[1,1])\n",
      "\n",
      "    return DenseDesignMatrix(X=X, y=y)"
     ],
     "language": "python",
     "metadata": {},
     "outputs": [],
     "prompt_number": 245
    },
    {
     "cell_type": "raw",
     "metadata": {},
     "source": [
      "We load the data"
     ]
    },
    {
     "cell_type": "code",
     "collapsed": false,
     "input": [
      "trainingSet = load_data(0,10)\n",
      "print trainingSet"
     ],
     "language": "python",
     "metadata": {},
     "outputs": [
      {
       "output_type": "stream",
       "stream": "stdout",
       "text": [
        "0\n",
        "0\n",
        "0\n",
        "1\n",
        "0\n",
        "0\n",
        "0\n",
        "1\n",
        "1\n",
        "0\n",
        "1\n",
        "<pylearn2.datasets.dense_design_matrix.DenseDesignMatrix object at 0x7fdf9326ac90>\n"
       ]
      }
     ],
     "prompt_number": 246
    },
    {
     "cell_type": "raw",
     "metadata": {},
     "source": [
      "From http://www.arngarden.com/2013/07/29/neural-network-example-using-pylearn2/\n",
      "\"Pylearn2 has a dataset implementation that in its simplest form needs a collection of datapoints in a 2D Numpy array named X and a 2D array named y containing the answers. We can create a dataset by creating a new class that inherits from DenseDesignMatrix:\""
     ]
    },
    {
     "cell_type": "code",
     "collapsed": false,
     "input": [
      "class dataLoader(): #hace falta que tiene un DenseMatrix\n",
      "    #Assumes the first row contains the class and all objects of the same class and header\n",
      "    def __init__(self):\n",
      "        self.class_names = ['0', '1'] #This restricts a bit the possible classes WARNING\n",
      "        allData = np.loadtxt('SAheartS.csv', delimiter=',', skiprows=1) #skips the header\n",
      "        X = allData[:,1:]\n",
      "        y = allData[:,0]\n",
      "        one_hot = []\n",
      "        \n",
      "        for target in y:\n",
      "            if(target == 0):\n",
      "                one_hot.append([0,1])\n",
      "            else:\n",
      "                one_hot.append([1,0])\n",
      "\n",
      "        X = np.array(X)\n",
      "        y = np.array(one_hot)\n",
      "        \n",
      "        super(dataLoader, self).__init__(X=X, y=y) #tengo que averiguar que hace esto\n",
      " \n",
      "#ds = dataLoader()"
     ],
     "language": "python",
     "metadata": {},
     "outputs": [],
     "prompt_number": 51
    },
    {
     "cell_type": "raw",
     "metadata": {},
     "source": [
      "This creates a hidden layer"
     ]
    },
    {
     "cell_type": "code",
     "collapsed": false,
     "input": [
      "hidden_layer = mlp.Sigmoid(layer_name='h0', dim=50, irange=.1, init_bias=1.)"
     ],
     "language": "python",
     "metadata": {},
     "outputs": []
    },
    {
     "cell_type": "raw",
     "metadata": {},
     "source": [
      "This creates the output layer"
     ]
    },
    {
     "cell_type": "code",
     "collapsed": false,
     "input": [
      "output_layer = mlp.Softmax(2, 'output', irange=.1)"
     ],
     "language": "python",
     "metadata": {},
     "outputs": []
    },
    {
     "cell_type": "raw",
     "metadata": {},
     "source": [
      "We train the network"
     ]
    },
    {
     "cell_type": "code",
     "collapsed": false,
     "input": [
      "trainer = sgd.SGD(learning_rate=.01, batch_size=10, termination_criterion=EpochCounter(100))"
     ],
     "language": "python",
     "metadata": {},
     "outputs": []
    },
    {
     "cell_type": "raw",
     "metadata": {},
     "source": [
      "We initialize the model"
     ]
    },
    {
     "cell_type": "code",
     "collapsed": false,
     "input": [
      "layers = [hidden_layer, output_layer]\n",
      "model1 = mlp.MLP(layers, nvis=2)\n",
      "trainer.setup(model1, ds)"
     ],
     "language": "python",
     "metadata": {},
     "outputs": []
    },
    {
     "cell_type": "raw",
     "metadata": {},
     "source": [
      "We train until we reach the termination criteria"
     ]
    },
    {
     "cell_type": "code",
     "collapsed": false,
     "input": [
      "while True:\n",
      "    trainer.train(dataset=ds)\n",
      "    model1.monitor.report_epoch()\n",
      "    model1.monitor()\n",
      "    if not trainer.continue_learning(model1):\n",
      "        break"
     ],
     "language": "python",
     "metadata": {},
     "outputs": []
    },
    {
     "cell_type": "code",
     "collapsed": false,
     "input": [],
     "language": "python",
     "metadata": {},
     "outputs": []
    },
    {
     "cell_type": "code",
     "collapsed": false,
     "input": [],
     "language": "python",
     "metadata": {},
     "outputs": []
    },
    {
     "cell_type": "code",
     "collapsed": false,
     "input": [],
     "language": "python",
     "metadata": {},
     "outputs": []
    },
    {
     "cell_type": "code",
     "collapsed": false,
     "input": [],
     "language": "python",
     "metadata": {},
     "outputs": []
    },
    {
     "cell_type": "code",
     "collapsed": false,
     "input": [],
     "language": "python",
     "metadata": {},
     "outputs": []
    },
    {
     "cell_type": "code",
     "collapsed": false,
     "input": [],
     "language": "python",
     "metadata": {},
     "outputs": []
    },
    {
     "cell_type": "code",
     "collapsed": false,
     "input": [],
     "language": "python",
     "metadata": {},
     "outputs": []
    },
    {
     "cell_type": "code",
     "collapsed": false,
     "input": [
      "with open(pathToYaml, 'r') as f:\n",
      "    train = f.read()\n",
      "hyper_params = {'train_stop' : 340,\n",
      "                'valid_stop' : 400,\n",
      "                'test_stop' : 462,\n",
      "                'dim_h0' : 50,\n",
      "                'max_epochs' : 100,\n",
      "                'save_path' : '.'}\n",
      "train = train % (hyper_params) # que hace esta linea?\n",
      "#print train\n",
      "#falta especificar como hacer el load..."
     ],
     "language": "python",
     "metadata": {},
     "outputs": [],
     "prompt_number": 55
    },
    {
     "cell_type": "raw",
     "metadata": {},
     "source": [
      "This will construct the Train object and run its main loop.\n",
      "The same would be achieved by executing\n",
      "python train.py filename.yaml"
     ]
    },
    {
     "cell_type": "code",
     "collapsed": false,
     "input": [
      "from pylearn2.config import yaml_parse\n",
      "train = yaml_parse.load(train)\n",
      "train.main_loop()"
     ],
     "language": "python",
     "metadata": {},
     "outputs": [
      {
       "ename": "NameError",
       "evalue": "global name 'csv' is not defined",
       "output_type": "pyerr",
       "traceback": [
        "\u001b[0;31m---------------------------------------------------------------------------\u001b[0m\n\u001b[0;31mNameError\u001b[0m                                 Traceback (most recent call last)",
        "\u001b[0;32m<ipython-input-58-a29d25125a51>\u001b[0m in \u001b[0;36m<module>\u001b[0;34m()\u001b[0m\n\u001b[1;32m      1\u001b[0m \u001b[0;32mfrom\u001b[0m \u001b[0mpylearn2\u001b[0m\u001b[0;34m.\u001b[0m\u001b[0mconfig\u001b[0m \u001b[0;32mimport\u001b[0m \u001b[0myaml_parse\u001b[0m\u001b[0;34m\u001b[0m\u001b[0m\n\u001b[0;32m----> 2\u001b[0;31m \u001b[0mtrain\u001b[0m \u001b[0;34m=\u001b[0m \u001b[0myaml_parse\u001b[0m\u001b[0;34m.\u001b[0m\u001b[0mload\u001b[0m\u001b[0;34m(\u001b[0m\u001b[0mtrain\u001b[0m\u001b[0;34m)\u001b[0m\u001b[0;34m\u001b[0m\u001b[0m\n\u001b[0m\u001b[1;32m      3\u001b[0m \u001b[0mtrain\u001b[0m\u001b[0;34m.\u001b[0m\u001b[0mmain_loop\u001b[0m\u001b[0;34m(\u001b[0m\u001b[0;34m)\u001b[0m\u001b[0;34m\u001b[0m\u001b[0m\n",
        "\u001b[0;32m/home/julian/Documents/pylearn2/pylearn2/config/yaml_parse.pyc\u001b[0m in \u001b[0;36mload\u001b[0;34m(stream, environ, instantiate, **kwargs)\u001b[0m\n\u001b[1;32m    336\u001b[0m     \u001b[0mproxy_graph\u001b[0m \u001b[0;34m=\u001b[0m \u001b[0myaml\u001b[0m\u001b[0;34m.\u001b[0m\u001b[0mload\u001b[0m\u001b[0;34m(\u001b[0m\u001b[0mstring\u001b[0m\u001b[0;34m,\u001b[0m \u001b[0;34m**\u001b[0m\u001b[0mkwargs\u001b[0m\u001b[0;34m)\u001b[0m\u001b[0;34m\u001b[0m\u001b[0m\n\u001b[1;32m    337\u001b[0m     \u001b[0;32mif\u001b[0m \u001b[0minstantiate\u001b[0m\u001b[0;34m:\u001b[0m\u001b[0;34m\u001b[0m\u001b[0m\n\u001b[0;32m--> 338\u001b[0;31m         \u001b[0;32mreturn\u001b[0m \u001b[0m_instantiate\u001b[0m\u001b[0;34m(\u001b[0m\u001b[0mproxy_graph\u001b[0m\u001b[0;34m)\u001b[0m\u001b[0;34m\u001b[0m\u001b[0m\n\u001b[0m\u001b[1;32m    339\u001b[0m     \u001b[0;32melse\u001b[0m\u001b[0;34m:\u001b[0m\u001b[0;34m\u001b[0m\u001b[0m\n\u001b[1;32m    340\u001b[0m         \u001b[0;32mreturn\u001b[0m \u001b[0mproxy_graph\u001b[0m\u001b[0;34m\u001b[0m\u001b[0m\n",
        "\u001b[0;32m/home/julian/Documents/pylearn2/pylearn2/config/yaml_parse.pyc\u001b[0m in \u001b[0;36m_instantiate\u001b[0;34m(proxy, bindings)\u001b[0m\n\u001b[1;32m    279\u001b[0m         \u001b[0mbindings\u001b[0m \u001b[0;34m=\u001b[0m \u001b[0;34m{\u001b[0m\u001b[0;34m}\u001b[0m\u001b[0;34m\u001b[0m\u001b[0m\n\u001b[1;32m    280\u001b[0m     \u001b[0;32mif\u001b[0m \u001b[0misinstance\u001b[0m\u001b[0;34m(\u001b[0m\u001b[0mproxy\u001b[0m\u001b[0;34m,\u001b[0m \u001b[0mProxy\u001b[0m\u001b[0;34m)\u001b[0m\u001b[0;34m:\u001b[0m\u001b[0;34m\u001b[0m\u001b[0m\n\u001b[0;32m--> 281\u001b[0;31m         \u001b[0;32mreturn\u001b[0m \u001b[0m_instantiate_proxy_tuple\u001b[0m\u001b[0;34m(\u001b[0m\u001b[0mproxy\u001b[0m\u001b[0;34m,\u001b[0m \u001b[0mbindings\u001b[0m\u001b[0;34m)\u001b[0m\u001b[0;34m\u001b[0m\u001b[0m\n\u001b[0m\u001b[1;32m    282\u001b[0m     \u001b[0;32melif\u001b[0m \u001b[0misinstance\u001b[0m\u001b[0;34m(\u001b[0m\u001b[0mproxy\u001b[0m\u001b[0;34m,\u001b[0m \u001b[0mdict\u001b[0m\u001b[0;34m)\u001b[0m\u001b[0;34m:\u001b[0m\u001b[0;34m\u001b[0m\u001b[0m\n\u001b[1;32m    283\u001b[0m         \u001b[0;31m# Recurse on the keys too, for backward compatibility.\u001b[0m\u001b[0;34m\u001b[0m\u001b[0;34m\u001b[0m\u001b[0m\n",
        "\u001b[0;32m/home/julian/Documents/pylearn2/pylearn2/config/yaml_parse.pyc\u001b[0m in \u001b[0;36m_instantiate_proxy_tuple\u001b[0;34m(proxy, bindings)\u001b[0m\n\u001b[1;32m    228\u001b[0m                                           'supported in proxy instantiation')\n\u001b[1;32m    229\u001b[0m             kwargs = dict((k, _instantiate(v, bindings))\n\u001b[0;32m--> 230\u001b[0;31m                           for k, v in six.iteritems(proxy.keywords))\n\u001b[0m\u001b[1;32m    231\u001b[0m             \u001b[0mobj\u001b[0m \u001b[0;34m=\u001b[0m \u001b[0mchecked_call\u001b[0m\u001b[0;34m(\u001b[0m\u001b[0mproxy\u001b[0m\u001b[0;34m.\u001b[0m\u001b[0mcallable\u001b[0m\u001b[0;34m,\u001b[0m \u001b[0mkwargs\u001b[0m\u001b[0;34m)\u001b[0m\u001b[0;34m\u001b[0m\u001b[0m\n\u001b[1;32m    232\u001b[0m         \u001b[0;32mtry\u001b[0m\u001b[0;34m:\u001b[0m\u001b[0;34m\u001b[0m\u001b[0m\n",
        "\u001b[0;32m/home/julian/Documents/pylearn2/pylearn2/config/yaml_parse.pyc\u001b[0m in \u001b[0;36m<genexpr>\u001b[0;34m((k, v))\u001b[0m\n\u001b[1;32m    228\u001b[0m                                           'supported in proxy instantiation')\n\u001b[1;32m    229\u001b[0m             kwargs = dict((k, _instantiate(v, bindings))\n\u001b[0;32m--> 230\u001b[0;31m                           for k, v in six.iteritems(proxy.keywords))\n\u001b[0m\u001b[1;32m    231\u001b[0m             \u001b[0mobj\u001b[0m \u001b[0;34m=\u001b[0m \u001b[0mchecked_call\u001b[0m\u001b[0;34m(\u001b[0m\u001b[0mproxy\u001b[0m\u001b[0;34m.\u001b[0m\u001b[0mcallable\u001b[0m\u001b[0;34m,\u001b[0m \u001b[0mkwargs\u001b[0m\u001b[0;34m)\u001b[0m\u001b[0;34m\u001b[0m\u001b[0m\n\u001b[1;32m    232\u001b[0m         \u001b[0;32mtry\u001b[0m\u001b[0;34m:\u001b[0m\u001b[0;34m\u001b[0m\u001b[0m\n",
        "\u001b[0;32m/home/julian/Documents/pylearn2/pylearn2/config/yaml_parse.pyc\u001b[0m in \u001b[0;36m_instantiate\u001b[0;34m(proxy, bindings)\u001b[0m\n\u001b[1;32m    279\u001b[0m         \u001b[0mbindings\u001b[0m \u001b[0;34m=\u001b[0m \u001b[0;34m{\u001b[0m\u001b[0;34m}\u001b[0m\u001b[0;34m\u001b[0m\u001b[0m\n\u001b[1;32m    280\u001b[0m     \u001b[0;32mif\u001b[0m \u001b[0misinstance\u001b[0m\u001b[0;34m(\u001b[0m\u001b[0mproxy\u001b[0m\u001b[0;34m,\u001b[0m \u001b[0mProxy\u001b[0m\u001b[0;34m)\u001b[0m\u001b[0;34m:\u001b[0m\u001b[0;34m\u001b[0m\u001b[0m\n\u001b[0;32m--> 281\u001b[0;31m         \u001b[0;32mreturn\u001b[0m \u001b[0m_instantiate_proxy_tuple\u001b[0m\u001b[0;34m(\u001b[0m\u001b[0mproxy\u001b[0m\u001b[0;34m,\u001b[0m \u001b[0mbindings\u001b[0m\u001b[0;34m)\u001b[0m\u001b[0;34m\u001b[0m\u001b[0m\n\u001b[0m\u001b[1;32m    282\u001b[0m     \u001b[0;32melif\u001b[0m \u001b[0misinstance\u001b[0m\u001b[0;34m(\u001b[0m\u001b[0mproxy\u001b[0m\u001b[0;34m,\u001b[0m \u001b[0mdict\u001b[0m\u001b[0;34m)\u001b[0m\u001b[0;34m:\u001b[0m\u001b[0;34m\u001b[0m\u001b[0m\n\u001b[1;32m    283\u001b[0m         \u001b[0;31m# Recurse on the keys too, for backward compatibility.\u001b[0m\u001b[0;34m\u001b[0m\u001b[0;34m\u001b[0m\u001b[0m\n",
        "\u001b[0;32m/home/julian/Documents/pylearn2/pylearn2/config/yaml_parse.pyc\u001b[0m in \u001b[0;36m_instantiate_proxy_tuple\u001b[0;34m(proxy, bindings)\u001b[0m\n\u001b[1;32m    228\u001b[0m                                           'supported in proxy instantiation')\n\u001b[1;32m    229\u001b[0m             kwargs = dict((k, _instantiate(v, bindings))\n\u001b[0;32m--> 230\u001b[0;31m                           for k, v in six.iteritems(proxy.keywords))\n\u001b[0m\u001b[1;32m    231\u001b[0m             \u001b[0mobj\u001b[0m \u001b[0;34m=\u001b[0m \u001b[0mchecked_call\u001b[0m\u001b[0;34m(\u001b[0m\u001b[0mproxy\u001b[0m\u001b[0;34m.\u001b[0m\u001b[0mcallable\u001b[0m\u001b[0;34m,\u001b[0m \u001b[0mkwargs\u001b[0m\u001b[0;34m)\u001b[0m\u001b[0;34m\u001b[0m\u001b[0m\n\u001b[1;32m    232\u001b[0m         \u001b[0;32mtry\u001b[0m\u001b[0;34m:\u001b[0m\u001b[0;34m\u001b[0m\u001b[0m\n",
        "\u001b[0;32m/home/julian/Documents/pylearn2/pylearn2/config/yaml_parse.pyc\u001b[0m in \u001b[0;36m<genexpr>\u001b[0;34m((k, v))\u001b[0m\n\u001b[1;32m    228\u001b[0m                                           'supported in proxy instantiation')\n\u001b[1;32m    229\u001b[0m             kwargs = dict((k, _instantiate(v, bindings))\n\u001b[0;32m--> 230\u001b[0;31m                           for k, v in six.iteritems(proxy.keywords))\n\u001b[0m\u001b[1;32m    231\u001b[0m             \u001b[0mobj\u001b[0m \u001b[0;34m=\u001b[0m \u001b[0mchecked_call\u001b[0m\u001b[0;34m(\u001b[0m\u001b[0mproxy\u001b[0m\u001b[0;34m.\u001b[0m\u001b[0mcallable\u001b[0m\u001b[0;34m,\u001b[0m \u001b[0mkwargs\u001b[0m\u001b[0;34m)\u001b[0m\u001b[0;34m\u001b[0m\u001b[0m\n\u001b[1;32m    232\u001b[0m         \u001b[0;32mtry\u001b[0m\u001b[0;34m:\u001b[0m\u001b[0;34m\u001b[0m\u001b[0m\n",
        "\u001b[0;32m/home/julian/Documents/pylearn2/pylearn2/config/yaml_parse.pyc\u001b[0m in \u001b[0;36m_instantiate\u001b[0;34m(proxy, bindings)\u001b[0m\n\u001b[1;32m    284\u001b[0m         \u001b[0;31m# Is the key instantiation feature ever actually used, by anyone?\u001b[0m\u001b[0;34m\u001b[0m\u001b[0;34m\u001b[0m\u001b[0m\n\u001b[1;32m    285\u001b[0m         return dict((_instantiate(k, bindings), _instantiate(v, bindings))\n\u001b[0;32m--> 286\u001b[0;31m                     for k, v in six.iteritems(proxy))\n\u001b[0m\u001b[1;32m    287\u001b[0m     \u001b[0;32melif\u001b[0m \u001b[0misinstance\u001b[0m\u001b[0;34m(\u001b[0m\u001b[0mproxy\u001b[0m\u001b[0;34m,\u001b[0m \u001b[0mlist\u001b[0m\u001b[0;34m)\u001b[0m\u001b[0;34m:\u001b[0m\u001b[0;34m\u001b[0m\u001b[0m\n\u001b[1;32m    288\u001b[0m         \u001b[0;32mreturn\u001b[0m \u001b[0;34m[\u001b[0m\u001b[0m_instantiate\u001b[0m\u001b[0;34m(\u001b[0m\u001b[0mv\u001b[0m\u001b[0;34m,\u001b[0m \u001b[0mbindings\u001b[0m\u001b[0;34m)\u001b[0m \u001b[0;32mfor\u001b[0m \u001b[0mv\u001b[0m \u001b[0;32min\u001b[0m \u001b[0mproxy\u001b[0m\u001b[0;34m]\u001b[0m\u001b[0;34m\u001b[0m\u001b[0m\n",
        "\u001b[0;32m/home/julian/Documents/pylearn2/pylearn2/config/yaml_parse.pyc\u001b[0m in \u001b[0;36m<genexpr>\u001b[0;34m((k, v))\u001b[0m\n\u001b[1;32m    284\u001b[0m         \u001b[0;31m# Is the key instantiation feature ever actually used, by anyone?\u001b[0m\u001b[0;34m\u001b[0m\u001b[0;34m\u001b[0m\u001b[0m\n\u001b[1;32m    285\u001b[0m         return dict((_instantiate(k, bindings), _instantiate(v, bindings))\n\u001b[0;32m--> 286\u001b[0;31m                     for k, v in six.iteritems(proxy))\n\u001b[0m\u001b[1;32m    287\u001b[0m     \u001b[0;32melif\u001b[0m \u001b[0misinstance\u001b[0m\u001b[0;34m(\u001b[0m\u001b[0mproxy\u001b[0m\u001b[0;34m,\u001b[0m \u001b[0mlist\u001b[0m\u001b[0;34m)\u001b[0m\u001b[0;34m:\u001b[0m\u001b[0;34m\u001b[0m\u001b[0m\n\u001b[1;32m    288\u001b[0m         \u001b[0;32mreturn\u001b[0m \u001b[0;34m[\u001b[0m\u001b[0m_instantiate\u001b[0m\u001b[0;34m(\u001b[0m\u001b[0mv\u001b[0m\u001b[0;34m,\u001b[0m \u001b[0mbindings\u001b[0m\u001b[0;34m)\u001b[0m \u001b[0;32mfor\u001b[0m \u001b[0mv\u001b[0m \u001b[0;32min\u001b[0m \u001b[0mproxy\u001b[0m\u001b[0;34m]\u001b[0m\u001b[0;34m\u001b[0m\u001b[0m\n",
        "\u001b[0;32m/home/julian/Documents/pylearn2/pylearn2/config/yaml_parse.pyc\u001b[0m in \u001b[0;36m_instantiate\u001b[0;34m(proxy, bindings)\u001b[0m\n\u001b[1;32m    279\u001b[0m         \u001b[0mbindings\u001b[0m \u001b[0;34m=\u001b[0m \u001b[0;34m{\u001b[0m\u001b[0;34m}\u001b[0m\u001b[0;34m\u001b[0m\u001b[0m\n\u001b[1;32m    280\u001b[0m     \u001b[0;32mif\u001b[0m \u001b[0misinstance\u001b[0m\u001b[0;34m(\u001b[0m\u001b[0mproxy\u001b[0m\u001b[0;34m,\u001b[0m \u001b[0mProxy\u001b[0m\u001b[0;34m)\u001b[0m\u001b[0;34m:\u001b[0m\u001b[0;34m\u001b[0m\u001b[0m\n\u001b[0;32m--> 281\u001b[0;31m         \u001b[0;32mreturn\u001b[0m \u001b[0m_instantiate_proxy_tuple\u001b[0m\u001b[0;34m(\u001b[0m\u001b[0mproxy\u001b[0m\u001b[0;34m,\u001b[0m \u001b[0mbindings\u001b[0m\u001b[0;34m)\u001b[0m\u001b[0;34m\u001b[0m\u001b[0m\n\u001b[0m\u001b[1;32m    282\u001b[0m     \u001b[0;32melif\u001b[0m \u001b[0misinstance\u001b[0m\u001b[0;34m(\u001b[0m\u001b[0mproxy\u001b[0m\u001b[0;34m,\u001b[0m \u001b[0mdict\u001b[0m\u001b[0;34m)\u001b[0m\u001b[0;34m:\u001b[0m\u001b[0;34m\u001b[0m\u001b[0m\n\u001b[1;32m    283\u001b[0m         \u001b[0;31m# Recurse on the keys too, for backward compatibility.\u001b[0m\u001b[0;34m\u001b[0m\u001b[0;34m\u001b[0m\u001b[0m\n",
        "\u001b[0;32m/home/julian/Documents/pylearn2/pylearn2/config/yaml_parse.pyc\u001b[0m in \u001b[0;36m_instantiate_proxy_tuple\u001b[0;34m(proxy, bindings)\u001b[0m\n\u001b[1;32m    229\u001b[0m             kwargs = dict((k, _instantiate(v, bindings))\n\u001b[1;32m    230\u001b[0m                           for k, v in six.iteritems(proxy.keywords))\n\u001b[0;32m--> 231\u001b[0;31m             \u001b[0mobj\u001b[0m \u001b[0;34m=\u001b[0m \u001b[0mchecked_call\u001b[0m\u001b[0;34m(\u001b[0m\u001b[0mproxy\u001b[0m\u001b[0;34m.\u001b[0m\u001b[0mcallable\u001b[0m\u001b[0;34m,\u001b[0m \u001b[0mkwargs\u001b[0m\u001b[0;34m)\u001b[0m\u001b[0;34m\u001b[0m\u001b[0m\n\u001b[0m\u001b[1;32m    232\u001b[0m         \u001b[0;32mtry\u001b[0m\u001b[0;34m:\u001b[0m\u001b[0;34m\u001b[0m\u001b[0m\n\u001b[1;32m    233\u001b[0m             \u001b[0mobj\u001b[0m\u001b[0;34m.\u001b[0m\u001b[0myaml_src\u001b[0m \u001b[0;34m=\u001b[0m \u001b[0mproxy\u001b[0m\u001b[0;34m.\u001b[0m\u001b[0myaml_src\u001b[0m\u001b[0;34m\u001b[0m\u001b[0m\n",
        "\u001b[0;32m/home/julian/Documents/pylearn2/pylearn2/utils/call_check.pyc\u001b[0m in \u001b[0;36mchecked_call\u001b[0;34m(to_call, kwargs)\u001b[0m\n\u001b[1;32m     97\u001b[0m     \"\"\"\n\u001b[1;32m     98\u001b[0m     \u001b[0;32mtry\u001b[0m\u001b[0;34m:\u001b[0m\u001b[0;34m\u001b[0m\u001b[0m\n\u001b[0;32m---> 99\u001b[0;31m         \u001b[0;32mreturn\u001b[0m \u001b[0mto_call\u001b[0m\u001b[0;34m(\u001b[0m\u001b[0;34m**\u001b[0m\u001b[0mkwargs\u001b[0m\u001b[0;34m)\u001b[0m\u001b[0;34m\u001b[0m\u001b[0m\n\u001b[0m\u001b[1;32m    100\u001b[0m     \u001b[0;32mexcept\u001b[0m \u001b[0mTypeError\u001b[0m\u001b[0;34m:\u001b[0m\u001b[0;34m\u001b[0m\u001b[0m\n\u001b[1;32m    101\u001b[0m         \u001b[0mcheck_call_arguments\u001b[0m\u001b[0;34m(\u001b[0m\u001b[0mto_call\u001b[0m\u001b[0;34m,\u001b[0m \u001b[0mkwargs\u001b[0m\u001b[0;34m)\u001b[0m\u001b[0;34m\u001b[0m\u001b[0m\n",
        "\u001b[0;32m/home/julian/Documents/pylearn2/datasets/SAheart/SAheartS.pyc\u001b[0m in \u001b[0;36mload_data\u001b[0;34m(start, stop)\u001b[0m\n\u001b[1;32m     15\u001b[0m     \"\"\"\n\u001b[1;32m     16\u001b[0m     \u001b[0;32mwith\u001b[0m \u001b[0mopen\u001b[0m\u001b[0;34m(\u001b[0m\u001b[0;34m'SAheartS.csv'\u001b[0m\u001b[0;34m,\u001b[0m \u001b[0;34m'r'\u001b[0m\u001b[0;34m)\u001b[0m \u001b[0;32mas\u001b[0m \u001b[0mf\u001b[0m\u001b[0;34m:\u001b[0m\u001b[0;34m\u001b[0m\u001b[0m\n\u001b[0;32m---> 17\u001b[0;31m         \u001b[0mreader\u001b[0m \u001b[0;34m=\u001b[0m \u001b[0mcsv\u001b[0m\u001b[0;34m.\u001b[0m\u001b[0mreader\u001b[0m\u001b[0;34m(\u001b[0m\u001b[0mf\u001b[0m\u001b[0;34m,\u001b[0m \u001b[0mdelimiter\u001b[0m\u001b[0;34m=\u001b[0m\u001b[0;34m','\u001b[0m\u001b[0;34m)\u001b[0m\u001b[0;34m\u001b[0m\u001b[0m\n\u001b[0m\u001b[1;32m     18\u001b[0m         \u001b[0mX\u001b[0m \u001b[0;34m=\u001b[0m \u001b[0;34m[\u001b[0m\u001b[0;34m]\u001b[0m\u001b[0;34m\u001b[0m\u001b[0m\n\u001b[1;32m     19\u001b[0m         \u001b[0my\u001b[0m \u001b[0;34m=\u001b[0m \u001b[0;34m[\u001b[0m\u001b[0;34m]\u001b[0m\u001b[0;34m\u001b[0m\u001b[0m\n",
        "\u001b[0;31mNameError\u001b[0m: global name 'csv' is not defined"
       ]
      }
     ],
     "prompt_number": 58
    },
    {
     "cell_type": "code",
     "collapsed": false,
     "input": [
      "pwd"
     ],
     "language": "python",
     "metadata": {},
     "outputs": [
      {
       "metadata": {},
       "output_type": "pyout",
       "prompt_number": 28,
       "text": [
        "u'/home/julian/Documents'"
       ]
      }
     ],
     "prompt_number": 28
    },
    {
     "cell_type": "code",
     "collapsed": false,
     "input": [
      "cd pylearn2/datasets/"
     ],
     "language": "python",
     "metadata": {},
     "outputs": [
      {
       "output_type": "stream",
       "stream": "stdout",
       "text": [
        "/home/julian/Documents/pylearn2/datasets\n"
       ]
      }
     ],
     "prompt_number": 251
    },
    {
     "cell_type": "code",
     "collapsed": false,
     "input": [
      "from pandas import read_csv\n",
      "\n",
      "def load_data(start, stop):\n",
      "    \"\"\"\n",
      "    Expects\n",
      "    -------\n",
      "    valid .csv file in the same folder\n",
      "    first column must be target\n",
      "    Target must be \n",
      "    \n",
      "    Parameters\n",
      "    ----------\n",
      "    start: int\n",
      "    stop: int\n",
      "\n",
      "    Returns\n",
      "    -------\n",
      "\n",
      "    dataset : DenseDesignMatrix\n",
      "        A dataset include examples start (inclusive) through stop (exclusive).\n",
      "        The start and stop parameters are useful for splitting the data into\n",
      "        train, validation, and test data.\n",
      "    \"\"\"\n",
      "            \n",
      "    data = read_csv('smallHIGGS.csv', sep=\",\")\n",
      "        \n",
      "    X = data.ix[start:stop, 1:]\n",
      "    y = data.ix[start:stop, 0]\n",
      "            \n",
      "    X = np.array( X.as_matrix() )\n",
      "    y = np.array( y.as_matrix() )\n",
      "    y = np.vstack([y,abs(y-1)])\n",
      "    y = y.transpose()\n",
      "    y = y.astype(int)\n",
      "    #print type(X[1,9])\n",
      "    #print type(y[1,1])\n",
      "    #print y\n",
      "\n",
      "    return DenseDesignMatrix(X=X, y=y)"
     ],
     "language": "python",
     "metadata": {},
     "outputs": [],
     "prompt_number": 266
    },
    {
     "cell_type": "code",
     "collapsed": false,
     "input": [
      "load_data(1,5)"
     ],
     "language": "python",
     "metadata": {},
     "outputs": [
      {
       "output_type": "stream",
       "stream": "stdout",
       "text": [
        "<type 'numpy.float64'>\n",
        "<type 'numpy.int64'>\n",
        "[[1 0]\n",
        " [0 1]\n",
        " [1 0]\n",
        " [0 1]\n",
        " [1 0]]\n"
       ]
      },
      {
       "metadata": {},
       "output_type": "pyout",
       "prompt_number": 267,
       "text": [
        "<pylearn2.datasets.dense_design_matrix.DenseDesignMatrix at 0x7fdf932c8f50>"
       ]
      }
     ],
     "prompt_number": 267
    },
    {
     "cell_type": "code",
     "collapsed": false,
     "input": [],
     "language": "python",
     "metadata": {},
     "outputs": [],
     "prompt_number": 261
    },
    {
     "cell_type": "code",
     "collapsed": false,
     "input": [],
     "language": "python",
     "metadata": {},
     "outputs": []
    }
   ],
   "metadata": {}
  }
 ]
}